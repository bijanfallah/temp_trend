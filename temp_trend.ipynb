{
 "cells": [
  {
   "cell_type": "code",
   "execution_count": 2,
   "metadata": {},
   "outputs": [
    {
     "name": "stdout",
     "output_type": "stream",
     "text": [
      "pandas==0.24.2\n",
      "numpy==1.15.0\n",
      "requests==2.18.4\n",
      "matplotlib==2.1.1\n"
     ]
    }
   ],
   "source": [
    "import pandas as pd\n",
    "import io\n",
    "import requests\n",
    "import matplotlib.pyplot as plt\n",
    "import numpy as np\n",
    "#import pkg_resources\n",
    "#import types\n",
    "#def get_imports():\n",
    "#    for name, val in globals().items():\n",
    "#        if isinstance(val, types.ModuleType):\n",
    "#            # Split ensures you get root package, \n",
    "#            # not just imported function\n",
    "#            name = val.__name__.split(\".\")[0]\n",
    "#\n",
    "#        elif isinstance(val, type):\n",
    "#            name = val.__module__.split(\".\")[0]\n",
    "#\n",
    "#        # Some packages are weird and have different\n",
    "#        # imported names vs. system/pip names. Unfortunately,\n",
    "#        # there is no systematic way to get pip names from\n",
    "#        # a package's imported name. You'll have to had\n",
    "#        # exceptions to this list manually!\n",
    "#        poorly_named_packages = {\n",
    "#            \"PIL\": \"Pillow\",\n",
    "#            \"sklearn\": \"scikit-learn\"\n",
    "#        }\n",
    "#        if name in poorly_named_packages.keys():\n",
    "#            name = poorly_named_packages[name]\n",
    "#\n",
    "#        yield name\n",
    "#imports = list(set(get_imports()))\n",
    "## The only way I found to get the version of the root package\n",
    "## from only the name of the package is to cross-check the names \n",
    "## of installed packages vs. imported packages\n",
    "#requirements = []\n",
    "#for m in pkg_resources.working_set:\n",
    "#    if m.project_name in imports and m.project_name!=\"pip\":\n",
    "#        requirements.append((m.project_name, m.version))\n",
    "#\n",
    "#for r in requirements:\n",
    "#    print(\"{}=={}\".format(*r))"
   ]
  },
  {
   "cell_type": "code",
   "execution_count": 205,
   "metadata": {},
   "outputs": [],
   "source": [
    "#Country = \"United States\"\n",
    "#Country=\"Germany\"\n",
    "#Country=\"China\"\n",
    "#Country=\"Australia\"\n",
    "Country=\"Nigeria\"\n",
    "url=\"http://berkeleyearth.lbl.gov/auto/Regional/TAVG/Text/\"+Country.lower().replace(\" \", \"-\")+\"-TAVG-Trend.txt\"\n",
    "s=requests.get(url).content\n",
    "c=pd.read_csv(io.StringIO(s.decode('utf-8')),delim_whitespace=True, skiprows=69, header=None)\n"
   ]
  },
  {
   "cell_type": "code",
   "execution_count": 206,
   "metadata": {},
   "outputs": [
    {
     "data": {
      "text/html": [
       "<div>\n",
       "<style scoped>\n",
       "    .dataframe tbody tr th:only-of-type {\n",
       "        vertical-align: middle;\n",
       "    }\n",
       "\n",
       "    .dataframe tbody tr th {\n",
       "        vertical-align: top;\n",
       "    }\n",
       "\n",
       "    .dataframe thead th {\n",
       "        text-align: right;\n",
       "    }\n",
       "</style>\n",
       "<table border=\"1\" class=\"dataframe\">\n",
       "  <thead>\n",
       "    <tr style=\"text-align: right;\">\n",
       "      <th></th>\n",
       "      <th>0</th>\n",
       "      <th>1</th>\n",
       "      <th>2</th>\n",
       "      <th>3</th>\n",
       "      <th>4</th>\n",
       "      <th>5</th>\n",
       "      <th>6</th>\n",
       "      <th>7</th>\n",
       "      <th>8</th>\n",
       "      <th>9</th>\n",
       "      <th>10</th>\n",
       "      <th>11</th>\n",
       "    </tr>\n",
       "  </thead>\n",
       "  <tbody>\n",
       "    <tr>\n",
       "      <th>0</th>\n",
       "      <td>1856</td>\n",
       "      <td>1</td>\n",
       "      <td>-0.303</td>\n",
       "      <td>1.082</td>\n",
       "      <td>NaN</td>\n",
       "      <td>NaN</td>\n",
       "      <td>NaN</td>\n",
       "      <td>NaN</td>\n",
       "      <td>NaN</td>\n",
       "      <td>NaN</td>\n",
       "      <td>NaN</td>\n",
       "      <td>NaN</td>\n",
       "    </tr>\n",
       "    <tr>\n",
       "      <th>1</th>\n",
       "      <td>1856</td>\n",
       "      <td>2</td>\n",
       "      <td>-1.173</td>\n",
       "      <td>1.621</td>\n",
       "      <td>NaN</td>\n",
       "      <td>NaN</td>\n",
       "      <td>NaN</td>\n",
       "      <td>NaN</td>\n",
       "      <td>NaN</td>\n",
       "      <td>NaN</td>\n",
       "      <td>NaN</td>\n",
       "      <td>NaN</td>\n",
       "    </tr>\n",
       "    <tr>\n",
       "      <th>2</th>\n",
       "      <td>1856</td>\n",
       "      <td>3</td>\n",
       "      <td>-0.666</td>\n",
       "      <td>1.015</td>\n",
       "      <td>NaN</td>\n",
       "      <td>NaN</td>\n",
       "      <td>NaN</td>\n",
       "      <td>NaN</td>\n",
       "      <td>NaN</td>\n",
       "      <td>NaN</td>\n",
       "      <td>NaN</td>\n",
       "      <td>NaN</td>\n",
       "    </tr>\n",
       "    <tr>\n",
       "      <th>3</th>\n",
       "      <td>1856</td>\n",
       "      <td>4</td>\n",
       "      <td>-0.669</td>\n",
       "      <td>0.985</td>\n",
       "      <td>NaN</td>\n",
       "      <td>NaN</td>\n",
       "      <td>NaN</td>\n",
       "      <td>NaN</td>\n",
       "      <td>NaN</td>\n",
       "      <td>NaN</td>\n",
       "      <td>NaN</td>\n",
       "      <td>NaN</td>\n",
       "    </tr>\n",
       "    <tr>\n",
       "      <th>4</th>\n",
       "      <td>1856</td>\n",
       "      <td>5</td>\n",
       "      <td>-0.887</td>\n",
       "      <td>1.198</td>\n",
       "      <td>NaN</td>\n",
       "      <td>NaN</td>\n",
       "      <td>NaN</td>\n",
       "      <td>NaN</td>\n",
       "      <td>NaN</td>\n",
       "      <td>NaN</td>\n",
       "      <td>NaN</td>\n",
       "      <td>NaN</td>\n",
       "    </tr>\n",
       "  </tbody>\n",
       "</table>\n",
       "</div>"
      ],
      "text/plain": [
       "     0   1      2      3   4   5   6   7   8   9   10  11\n",
       "0  1856   1 -0.303  1.082 NaN NaN NaN NaN NaN NaN NaN NaN\n",
       "1  1856   2 -1.173  1.621 NaN NaN NaN NaN NaN NaN NaN NaN\n",
       "2  1856   3 -0.666  1.015 NaN NaN NaN NaN NaN NaN NaN NaN\n",
       "3  1856   4 -0.669  0.985 NaN NaN NaN NaN NaN NaN NaN NaN\n",
       "4  1856   5 -0.887  1.198 NaN NaN NaN NaN NaN NaN NaN NaN"
      ]
     },
     "execution_count": 206,
     "metadata": {},
     "output_type": "execute_result"
    }
   ],
   "source": [
    "c.head()"
   ]
  },
  {
   "cell_type": "code",
   "execution_count": 207,
   "metadata": {},
   "outputs": [
    {
     "name": "stdout",
     "output_type": "stream",
     "text": [
      "0\n"
     ]
    },
    {
     "data": {
      "text/html": [
       "<div>\n",
       "<style scoped>\n",
       "    .dataframe tbody tr th:only-of-type {\n",
       "        vertical-align: middle;\n",
       "    }\n",
       "\n",
       "    .dataframe tbody tr th {\n",
       "        vertical-align: top;\n",
       "    }\n",
       "\n",
       "    .dataframe thead th {\n",
       "        text-align: right;\n",
       "    }\n",
       "</style>\n",
       "<table border=\"1\" class=\"dataframe\">\n",
       "  <thead>\n",
       "    <tr style=\"text-align: right;\">\n",
       "      <th></th>\n",
       "      <th>Year</th>\n",
       "      <th>Month</th>\n",
       "      <th>Anomaly</th>\n",
       "      <th>Uncertainty</th>\n",
       "    </tr>\n",
       "  </thead>\n",
       "  <tbody>\n",
       "    <tr>\n",
       "      <th>0</th>\n",
       "      <td>1856</td>\n",
       "      <td>1</td>\n",
       "      <td>-0.303</td>\n",
       "      <td>1.082</td>\n",
       "    </tr>\n",
       "    <tr>\n",
       "      <th>1</th>\n",
       "      <td>1856</td>\n",
       "      <td>2</td>\n",
       "      <td>-1.173</td>\n",
       "      <td>1.621</td>\n",
       "    </tr>\n",
       "    <tr>\n",
       "      <th>2</th>\n",
       "      <td>1856</td>\n",
       "      <td>3</td>\n",
       "      <td>-0.666</td>\n",
       "      <td>1.015</td>\n",
       "    </tr>\n",
       "    <tr>\n",
       "      <th>3</th>\n",
       "      <td>1856</td>\n",
       "      <td>4</td>\n",
       "      <td>-0.669</td>\n",
       "      <td>0.985</td>\n",
       "    </tr>\n",
       "    <tr>\n",
       "      <th>4</th>\n",
       "      <td>1856</td>\n",
       "      <td>5</td>\n",
       "      <td>-0.887</td>\n",
       "      <td>1.198</td>\n",
       "    </tr>\n",
       "  </tbody>\n",
       "</table>\n",
       "</div>"
      ],
      "text/plain": [
       "   Year  Month  Anomaly  Uncertainty\n",
       "0  1856      1   -0.303        1.082\n",
       "1  1856      2   -1.173        1.621\n",
       "2  1856      3   -0.666        1.015\n",
       "3  1856      4   -0.669        0.985\n",
       "4  1856      5   -0.887        1.198"
      ]
     },
     "execution_count": 207,
     "metadata": {},
     "output_type": "execute_result"
    }
   ],
   "source": [
    "\n",
    "for k in range(0,12):\n",
    "    if c.iloc[k,1]==1 :\n",
    "              \n",
    "        print(k)\n",
    "        monthly_temp= c.iloc[k:,0:4]\n",
    "        monthly_temp.columns = ['Year','Month','Anomaly','Uncertainty']\n",
    "        \n",
    "        break \n",
    "    else:\n",
    "        k += 1\n",
    "    \n",
    "monthly_temp.head()"
   ]
  },
  {
   "cell_type": "code",
   "execution_count": 208,
   "metadata": {},
   "outputs": [
    {
     "data": {
      "text/plain": [
       "[<matplotlib.lines.Line2D at 0x7fd7122be208>]"
      ]
     },
     "execution_count": 208,
     "metadata": {},
     "output_type": "execute_result"
    },
    {
     "data": {
      "image/png": "[encoded data removed]",
      "text/plain": [
       "<matplotlib.figure.Figure at 0x7fd7122ea9b0>"
      ]
     },
     "metadata": {
      "needs_background": "light"
     },
     "output_type": "display_data"
    }
   ],
   "source": [
    "\n",
    "\n",
    "\n",
    "years = np.linspace(monthly_temp.Year.min(),monthly_temp.Year.max() , num=monthly_temp.shape[0])\n",
    "plt.plot(years,monthly_temp.Anomaly,'r')\n",
    "plt.plot(years,monthly_temp.Uncertainty,'b')\n",
    "\n",
    "\n"
   ]
  },
  {
   "cell_type": "code",
   "execution_count": 209,
   "metadata": {},
   "outputs": [
    {
     "data": {
      "text/plain": [
       "[<matplotlib.lines.Line2D at 0x7fd7123d15f8>]"
      ]
     },
     "execution_count": 209,
     "metadata": {},
     "output_type": "execute_result"
    },
    {
     "data": {
      "image/png": "[encoded data removed]",
      "text/plain": [
       "<matplotlib.figure.Figure at 0x7fd7123b5c50>"
      ]
     },
     "metadata": {
      "needs_background": "light"
     },
     "output_type": "display_data"
    }
   ],
   "source": [
    "\n",
    "rolling_mean_anomaly = monthly_temp.Anomaly.rolling(window=60).mean()\n",
    "rolling_mean_uncertainty = monthly_temp.Uncertainty.rolling(window=60).mean()\n",
    "years = np.linspace(monthly_temp.Year.min(),monthly_temp.Year.max() , num=monthly_temp.shape[0])\n",
    "plt.plot(years,rolling_mean_anomaly,'r')\n",
    "plt.plot(years,rolling_mean_uncertainty,'b')\n",
    "\n"
   ]
  },
  {
   "cell_type": "code",
   "execution_count": 215,
   "metadata": {},
   "outputs": [
    {
     "data": {
      "text/plain": [
       "Text(0.5,1,' Temperatures anomalies relative to the Jan 1951-Dec 1980 average for Nigeria')"
      ]
     },
     "execution_count": 215,
     "metadata": {},
     "output_type": "execute_result"
    },
    {
     "data": {
      "image/png": "[encoded data removed]",
      "text/plain": [
       "<matplotlib.figure.Figure at 0x7fd7121359b0>"
      ]
     },
     "metadata": {
      "needs_background": "light"
     },
     "output_type": "display_data"
    }
   ],
   "source": [
    "plt.plot(years[years>1900],rolling_mean_anomaly[years>1900],'r')\n",
    "plt.plot(years[years>1900],rolling_mean_uncertainty[years>1900],'b')\n",
    "plt.title(\" Temperatures anomalies relative to the Jan 1951-Dec 1980 average for \"+ Country)"
   ]
  },
  {
   "cell_type": "code",
   "execution_count": null,
   "metadata": {},
   "outputs": [],
   "source": []
  },
  {
   "cell_type": "code",
   "execution_count": null,
   "metadata": {},
   "outputs": [],
   "source": []
  },
  {
   "cell_type": "code",
   "execution_count": null,
   "metadata": {},
   "outputs": [],
   "source": []
  }
 ],
 "metadata": {
  "hide_input": false,
  "kernelspec": {
   "display_name": "Python 2",
   "language": "python",
   "name": "python2"
  },
  "language_info": {
   "codemirror_mode": {
    "name": "ipython",
    "version": 2
   },
   "file_extension": ".py",
   "mimetype": "text/x-python",
   "name": "python",
   "nbconvert_exporter": "python",
   "pygments_lexer": "ipython2",
   "version": "2.7.15rc1"
  },
  "toc": {
   "base_numbering": 1,
   "nav_menu": {},
   "number_sections": true,
   "sideBar": true,
   "skip_h1_title": false,
   "title_cell": "Table of Contents",
   "title_sidebar": "Contents",
   "toc_cell": false,
   "toc_position": {},
   "toc_section_display": true,
   "toc_window_display": false
  }
 },
 "nbformat": 4,
 "nbformat_minor": 2
}
